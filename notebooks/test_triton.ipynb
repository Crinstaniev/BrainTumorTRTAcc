{
 "cells": [
  {
   "cell_type": "code",
   "execution_count": 1,
   "metadata": {},
   "outputs": [],
   "source": [
    "import tritonclient.http as httpclient\n",
    "import numpy as np"
   ]
  },
  {
   "cell_type": "code",
   "execution_count": 2,
   "metadata": {},
   "outputs": [],
   "source": [
    "client = httpclient.InferenceServerClient(url=\"localhost:8000\")"
   ]
  },
  {
   "cell_type": "code",
   "execution_count": 3,
   "metadata": {},
   "outputs": [
    {
     "name": "stdout",
     "output_type": "stream",
     "text": [
      "client.is_server_live(): True\n"
     ]
    }
   ],
   "source": [
    "# test connection\n",
    "print(\"client.is_server_live():\", client.is_server_live())"
   ]
  },
  {
   "cell_type": "code",
   "execution_count": 4,
   "metadata": {},
   "outputs": [],
   "source": [
    "input_data = np.random.rand(1, 3, 640, 640).astype(np.float32)"
   ]
  },
  {
   "cell_type": "code",
   "execution_count": 7,
   "metadata": {},
   "outputs": [
    {
     "data": {
      "text/plain": [
       "<tritonclient.http._infer_input.InferInput at 0x7f19ae659520>"
      ]
     },
     "execution_count": 7,
     "metadata": {},
     "output_type": "execute_result"
    }
   ],
   "source": [
    "inputs = httpclient.InferInput(\"images\", input_data.shape, \"FP32\")\n",
    "inputs.set_data_from_numpy(input_data)"
   ]
  },
  {
   "cell_type": "code",
   "execution_count": 31,
   "metadata": {},
   "outputs": [],
   "source": [
    "output0 = httpclient.InferRequestedOutput(\"output0\")\n",
    "output1 = httpclient.InferRequestedOutput(\"output1\")"
   ]
  },
  {
   "cell_type": "code",
   "execution_count": 32,
   "metadata": {},
   "outputs": [],
   "source": [
    "response = client.infer(model_name=\"yolo\", inputs=[inputs], outputs=[output0, output1])"
   ]
  },
  {
   "cell_type": "code",
   "execution_count": 35,
   "metadata": {},
   "outputs": [],
   "source": [
    "output_data0 = response.as_numpy(\"output0\")\n",
    "output_data1 = response.as_numpy(\"output1\")"
   ]
  },
  {
   "cell_type": "code",
   "execution_count": 50,
   "metadata": {},
   "outputs": [
    {
     "name": "stdout",
     "output_type": "stream",
     "text": [
      "output_data0.shape: (1, 37, 8400)\n",
      "output_data1.shape: (1, 32, 160, 160)\n"
     ]
    }
   ],
   "source": [
    "print(\"output_data0.shape:\", output_data0.shape)\n",
    "print(\"output_data1.shape:\", output_data1.shape)"
   ]
  },
  {
   "cell_type": "code",
   "execution_count": 56,
   "metadata": {},
   "outputs": [],
   "source": [
    "import cv2"
   ]
  },
  {
   "cell_type": "code",
   "execution_count": 72,
   "metadata": {},
   "outputs": [],
   "source": [
    "conf_threshold = 0\n",
    "iou_threshold = 0.1\n",
    "im0 = input_data.squeeze().transpose(1, 2, 0)\n",
    "ratio = (640, 640)\n",
    "pad_w = 0\n",
    "pad_h = 0\n",
    "nm = 32\n",
    "\n",
    "x, protos = output_data0, output_data1\n",
    "x = np.einsum(\"bcn->bnc\", x)\n",
    "x = x[np.amax(x[..., 4:-nm], axis=-1) > conf_threshold]\n",
    "x = np.c_[x[..., :4], np.amax(x[..., 4:-nm], axis=-1), np.argmax(x[..., 4:-nm], axis=-1), x[..., -nm:]]\n",
    "x = x[cv2.dnn.NMSBoxes(x[:, :4], x[:, 4], conf_threshold, iou_threshold)]"
   ]
  },
  {
   "cell_type": "code",
   "execution_count": 73,
   "metadata": {},
   "outputs": [
    {
     "data": {
      "text/plain": [
       "array([[ 6.04696045e+02,  6.29812744e+02,  6.85888672e+01, ...,\n",
       "        -1.99246064e-01, -2.06948370e-02,  8.65826383e-03],\n",
       "       [ 5.86759827e+02,  5.74778381e+02,  1.05589355e+02, ...,\n",
       "        -3.44821483e-01, -1.49340048e-01,  3.11803594e-02],\n",
       "       [ 3.80890541e+01,  6.14234131e+02,  7.69621201e+01, ...,\n",
       "        -3.36808771e-01, -5.84300458e-02,  1.37323588e-02],\n",
       "       ...,\n",
       "       [ 2.16674469e+02,  5.59357239e+02,  4.20315094e+01, ...,\n",
       "        -4.21015263e-01, -6.71976447e-01, -7.82849193e-02],\n",
       "       [ 4.14765076e+02,  5.59530151e+02,  4.50600281e+01, ...,\n",
       "        -4.41726267e-01, -6.82584941e-01, -7.88767934e-02],\n",
       "       [ 5.59885330e+01,  5.52381531e+02,  4.55781441e+01, ...,\n",
       "        -4.84497726e-01, -6.80336952e-01, -1.26507968e-01]])"
      ]
     },
     "execution_count": 73,
     "metadata": {},
     "output_type": "execute_result"
    }
   ],
   "source": [
    "x"
   ]
  },
  {
   "cell_type": "code",
   "execution_count": null,
   "metadata": {},
   "outputs": [
    {
     "data": {
      "text/plain": [
       "(1, 8400, 37)"
      ]
     },
     "execution_count": 44,
     "metadata": {},
     "output_type": "execute_result"
    }
   ],
   "source": [
    "x = x[np.amax(x[..., 4:-nm], axis=-1) > conf_threshold]"
   ]
  },
  {
   "cell_type": "code",
   "execution_count": null,
   "metadata": {},
   "outputs": [],
   "source": [
    "def sigmoid(z):\n",
    "    return 1 / (1 + np.exp(-z))\n",
    "\n",
    "def get_mask(row, box, img_w, img_h):\n",
    "    mask = row.reshape(160, 160)\n",
    "    mask = sigmoid(mask)\n",
    "    mask = (mask > 0.5).astype('uint8') * 255\n",
    "\n",
    "    # Calculate the bounding box coordinates in the mask's scale\n",
    "    mask_x1 = round(box.x1 / img_w * 160)\n",
    "    mask_y1 = round(box.y1 / img_h * 160)\n",
    "    mask_x2 = round(box.x2 / img_w * 160)\n",
    "    mask_y2 = round(box.y2 / img_h * 160)\n",
    "\n",
    "    # Crop the mask to the bounding box\n",
    "    mask = mask[mask_y1:mask_y2, mask_x1:mask_x2]\n",
    "\n",
    "    # Resize mask directly to the bounding box size\n",
    "    desired_width = round(box.x2 - box.x1)\n",
    "    desired_height = round(box.y2 - box.y1)\n",
    "    mask_resized = cv2.resize(mask, (desired_width, desired_height), interpolation=cv2.INTER_LINEAR)\n",
    "\n",
    "    return mask_resized"
   ]
  }
 ],
 "metadata": {
  "kernelspec": {
   "display_name": "inference-acc",
   "language": "python",
   "name": "python3"
  },
  "language_info": {
   "codemirror_mode": {
    "name": "ipython",
    "version": 3
   },
   "file_extension": ".py",
   "mimetype": "text/x-python",
   "name": "python",
   "nbconvert_exporter": "python",
   "pygments_lexer": "ipython3",
   "version": "3.12.7"
  }
 },
 "nbformat": 4,
 "nbformat_minor": 2
}
