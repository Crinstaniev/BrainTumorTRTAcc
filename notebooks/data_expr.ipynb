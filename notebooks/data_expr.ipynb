{
 "cells": [
  {
   "cell_type": "code",
   "execution_count": 1,
   "metadata": {},
   "outputs": [],
   "source": [
    "import cv2\n",
    "import random\n",
    "import glob\n",
    "import matplotlib.pyplot as plt\n",
    "import numpy as np\n",
    "\n",
    "np.random.seed(42)"
   ]
  },
  {
   "cell_type": "code",
   "execution_count": 2,
   "metadata": {},
   "outputs": [],
   "source": [
    "# Define class names and colors\n",
    "class_names = ['tumor']\n",
    "colors = np.random.uniform(0, 255, size=(len(class_names), 3))\n",
    "\n",
    "# Function to plot segmentation masks on the image\n",
    "def plot_segmentation(image, polygons, labels):\n",
    "    h, w, _ = image.shape\n",
    "\n",
    "    for polygon_num, polygon in enumerate(polygons):\n",
    "        class_name = class_names[int(labels[polygon_num])]\n",
    "        color = colors[class_names.index(class_name)]\n",
    "\n",
    "        # Denormalize the polygon points\n",
    "        points = []\n",
    "        for i in range(0, len(polygon), 2):\n",
    "            x = int(float(polygon[i]) * w)\n",
    "            y = int(float(polygon[i + 1]) * h)\n",
    "            points.append([x, y])\n",
    "\n",
    "        # Convert points to a NumPy array for OpenCV functions\n",
    "        points = np.array(points, np.int32).reshape((-1, 1, 2))\n",
    "\n",
    "        # Draw the segmentation mask\n",
    "        cv2.polylines(image, [points], isClosed=True, color=color, thickness=2)\n",
    "        cv2.fillPoly(image, [points], color=color)\n",
    "\n",
    "        # Draw the class label\n",
    "        centroid_x = int(np.mean(points[:, 0, 0]))\n",
    "        centroid_y = int(np.mean(points[:, 0, 1]))\n",
    "        font_scale = 0.5\n",
    "        font_thickness = 1\n",
    "        cv2.putText(image, class_name, (centroid_x, centroid_y - 10), cv2.FONT_HERSHEY_SIMPLEX, font_scale, (255, 255, 255), font_thickness)\n",
    "\n",
    "    return image"
   ]
  },
  {
   "cell_type": "code",
   "execution_count": 3,
   "metadata": {},
   "outputs": [],
   "source": [
    "# Function to plot images with segmentation masks\n",
    "def plot(image_paths, label_paths, num_samples):\n",
    "    all_images = sorted(glob.glob(image_paths))\n",
    "    all_labels = sorted(glob.glob(label_paths))\n",
    "\n",
    "    if not all_images or not all_labels:\n",
    "        print(\"Error: No images or labels found. Check the paths.\")\n",
    "        return\n",
    "\n",
    "    num_images = len(all_images)\n",
    "    plt.figure(figsize=(15, 12))\n",
    "\n",
    "    for i in range(num_samples):\n",
    "        idx = random.randint(0, num_images - 1)\n",
    "        image = cv2.imread(all_images[idx])\n",
    "\n",
    "        if image is None:\n",
    "            print(f\"Error: Could not read image {all_images[idx]}\")\n",
    "            continue\n",
    "\n",
    "        polygons = []\n",
    "        labels = []\n",
    "\n",
    "        with open(all_labels[idx], 'r') as f:\n",
    "            for line in f.readlines():\n",
    "                elements = line.split()\n",
    "                label = int(elements[0])\n",
    "                polygon_points = elements[1:]  # Extract the polygon points\n",
    "                polygons.append(polygon_points)\n",
    "                labels.append(label)\n",
    "\n",
    "        result_image = plot_segmentation(image, polygons, labels)\n",
    "        plt.subplot(2, 2, i + 1)\n",
    "        plt.imshow(result_image[:, :, ::-1])\n",
    "        plt.axis('off')\n",
    "\n",
    "    plt.tight_layout()\n",
    "    plt.show()"
   ]
  },
  {
   "cell_type": "code",
   "execution_count": null,
   "metadata": {},
   "outputs": [],
   "source": [
    "plot(\n",
    "    image_paths='/home/users/xt37/zz/data/train/images/*',\n",
    "    label_paths='/home/users/xt37/zz/data/train/labels/*',\n",
    "    num_samples=4\n",
    ")"
   ]
  }
 ],
 "metadata": {
  "kernelspec": {
   "display_name": "Python (torch",
   "language": "python",
   "name": "torch"
  },
  "language_info": {
   "codemirror_mode": {
    "name": "ipython",
    "version": 3
   },
   "file_extension": ".py",
   "mimetype": "text/x-python",
   "name": "python",
   "nbconvert_exporter": "python",
   "pygments_lexer": "ipython3",
   "version": "3.10.12"
  }
 },
 "nbformat": 4,
 "nbformat_minor": 2
}
