{
 "cells": [
  {
   "cell_type": "code",
   "execution_count": 27,
   "metadata": {},
   "outputs": [],
   "source": [
    "import tensorrt as trt\n",
    "import numpy as np\n",
    "import onnx"
   ]
  },
  {
   "cell_type": "code",
   "execution_count": 28,
   "metadata": {},
   "outputs": [],
   "source": [
    "ONNX_PATH = '/home/users/xt37/zz/onnx/best.onnx'\n",
    "TRT_PATH = '/home/users/xt37/zz/trt/best.trt'"
   ]
  },
  {
   "cell_type": "code",
   "execution_count": 29,
   "metadata": {},
   "outputs": [],
   "source": [
    "model_onnx = onnx.load(ONNX_PATH)"
   ]
  },
  {
   "cell_type": "code",
   "execution_count": 31,
   "metadata": {},
   "outputs": [
    {
     "data": {
      "text/plain": [
       "True"
      ]
     },
     "execution_count": 31,
     "metadata": {},
     "output_type": "execute_result"
    }
   ],
   "source": [
    "TRT_LOGGER = trt.Logger(trt.Logger.WARNING)\n",
    "builder = trt.Builder(TRT_LOGGER)\n",
    "network = builder.create_network()\n",
    "\n",
    "# create onnx-tensorrt backend\n",
    "parser = trt.OnnxParser(network, builder.logger)\n",
    "parser.parse(model_onnx.SerializeToString())\n"
   ]
  },
  {
   "cell_type": "code",
   "execution_count": 48,
   "metadata": {},
   "outputs": [],
   "source": [
    "# set up optimization profile and build parameters\n",
    "profile = builder.create_optimization_profile()\n",
    "\n",
    "input_name = model_onnx.graph.input[0].name\n",
    "min_shape = (1, 3, 640, 640)\n",
    "opt_shape = (1, 3, 640, 640)\n",
    "max_shape = (1, 3, 640, 640)\n",
    "\n",
    "profile.set_shape(input_name, min_shape, opt_shape, max_shape)"
   ]
  },
  {
   "cell_type": "code",
   "execution_count": 49,
   "metadata": {},
   "outputs": [],
   "source": [
    "builder_config = builder.create_builder_config()"
   ]
  },
  {
   "cell_type": "code",
   "execution_count": 52,
   "metadata": {},
   "outputs": [],
   "source": [
    "builder_config.flags = 1 << int(trt.BuilderFlag.FP16)"
   ]
  },
  {
   "cell_type": "code",
   "execution_count": null,
   "metadata": {},
   "outputs": [],
   "source": [
    "engine = builder.build_engine(network, builder_config)"
   ]
  }
 ],
 "metadata": {
  "kernelspec": {
   "display_name": "Python (torch",
   "language": "python",
   "name": "torch"
  },
  "language_info": {
   "codemirror_mode": {
    "name": "ipython",
    "version": 3
   },
   "file_extension": ".py",
   "mimetype": "text/x-python",
   "name": "python",
   "nbconvert_exporter": "python",
   "pygments_lexer": "ipython3",
   "version": "3.10.12"
  }
 },
 "nbformat": 4,
 "nbformat_minor": 2
}
