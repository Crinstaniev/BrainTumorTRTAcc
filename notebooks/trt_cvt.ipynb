{
 "cells": [
  {
   "cell_type": "code",
   "execution_count": 43,
   "metadata": {},
   "outputs": [],
   "source": [
    "import tensorrt as trt\n",
    "import numpy as np\n",
    "import onnx\n",
    "import torch\n",
    "import os"
   ]
  },
  {
   "cell_type": "code",
   "execution_count": null,
   "metadata": {},
   "outputs": [],
   "source": []
  },
  {
   "cell_type": "code",
   "execution_count": 44,
   "metadata": {},
   "outputs": [],
   "source": [
    "BASE_DIR = '/home/crinstaniev/Dev/BrainTumorTRTAcc'\n",
    "\n",
    "os.chdir(BASE_DIR)"
   ]
  },
  {
   "cell_type": "code",
   "execution_count": 45,
   "metadata": {},
   "outputs": [],
   "source": [
    "# change dirs if not exist\n",
    "if not os.path.exists('trt'):\n",
    "    os.mkdir('trt')"
   ]
  },
  {
   "cell_type": "code",
   "execution_count": 46,
   "metadata": {},
   "outputs": [],
   "source": [
    "# ONNX_PATH = f'/home/users/xt37/zz/onnx/best.onnx'\n",
    "ONNX_PATH = os.path.join(BASE_DIR, 'onnx/best.onnx')\n",
    "# TRT_PATH = '/home/users/xt37/zz/trt/best.trt'\n",
    "TRT_PATH = os.path.join(BASE_DIR, 'trt/best.engine')"
   ]
  },
  {
   "cell_type": "code",
   "execution_count": 47,
   "metadata": {},
   "outputs": [],
   "source": [
    "channels = 3\n",
    "width = 640\n",
    "height = 640\n",
    "input_model = [channels, width, height]\n",
    "max_batch_size = 4 \n",
    "\n",
    "shape_input_model = [max_batch_size] + input_model\n",
    "tensor_input = torch.randn(shape_input_model)"
   ]
  },
  {
   "cell_type": "code",
   "execution_count": 48,
   "metadata": {},
   "outputs": [],
   "source": [
    "model_onnx = onnx.load(ONNX_PATH)"
   ]
  },
  {
   "cell_type": "code",
   "execution_count": 49,
   "metadata": {},
   "outputs": [
    {
     "data": {
      "text/plain": [
       "True"
      ]
     },
     "execution_count": 49,
     "metadata": {},
     "output_type": "execute_result"
    }
   ],
   "source": [
    "TRT_LOGGER = trt.Logger(trt.Logger.WARNING)\n",
    "builder = trt.Builder(TRT_LOGGER)\n",
    "network = builder.create_network()\n",
    "\n",
    "# create onnx-tensorrt backend\n",
    "parser = trt.OnnxParser(network, builder.logger)\n",
    "parser.parse(model_onnx.SerializeToString())\n"
   ]
  },
  {
   "cell_type": "code",
   "execution_count": 50,
   "metadata": {},
   "outputs": [],
   "source": [
    "# set up optimization profile and build parameters\n",
    "profile = builder.create_optimization_profile()\n",
    "\n",
    "input_name = model_onnx.graph.input[0].name\n",
    "min_shape = (1, 3, 640, 640)\n",
    "opt_shape = (1, 3, 640, 640)\n",
    "max_shape = (1, 3, 640, 640)\n",
    "\n",
    "profile.set_shape(input_name, min_shape, opt_shape, max_shape)"
   ]
  },
  {
   "cell_type": "code",
   "execution_count": 51,
   "metadata": {},
   "outputs": [],
   "source": [
    "TRT_LOGGER = trt.Logger(trt.Logger.WARNING)"
   ]
  },
  {
   "cell_type": "code",
   "execution_count": 52,
   "metadata": {},
   "outputs": [
    {
     "data": {
      "text/plain": [
       "True"
      ]
     },
     "execution_count": 52,
     "metadata": {},
     "output_type": "execute_result"
    }
   ],
   "source": [
    "builder = trt.Builder(TRT_LOGGER)\n",
    "config = builder.create_builder_config()\n",
    "\n",
    "# set cache\n",
    "cache = config.create_timing_cache(b\"\")\n",
    "config.set_timing_cache(cache, ignore_mismatch=True)"
   ]
  },
  {
   "cell_type": "code",
   "execution_count": 53,
   "metadata": {},
   "outputs": [],
   "source": [
    "max_workspace = (1 << 30) * 4\n",
    "config.set_memory_pool_limit(trt.MemoryPoolType.WORKSPACE, max_workspace)"
   ]
  },
  {
   "cell_type": "code",
   "execution_count": 54,
   "metadata": {},
   "outputs": [],
   "source": [
    "flag = 1 << int(trt.NetworkDefinitionCreationFlag.EXPLICIT_BATCH)\n",
    "network = builder.create_network(flag)\n",
    "parser = trt.OnnxParser(network, TRT_LOGGER)"
   ]
  },
  {
   "cell_type": "code",
   "execution_count": 55,
   "metadata": {},
   "outputs": [],
   "source": [
    "with open(ONNX_PATH, \"rb\") as f:\n",
    "  if not parser.parse(f.read()):\n",
    "    for error in range(parser.num_errors):\n",
    "      print(parser.get_error(error))"
   ]
  },
  {
   "cell_type": "code",
   "execution_count": 56,
   "metadata": {},
   "outputs": [],
   "source": [
    "inputs = [network.get_input(i) for i in range(network.num_inputs)]\n",
    "outputs = [network.get_output(i) for i in range(network.num_outputs)]"
   ]
  },
  {
   "cell_type": "code",
   "execution_count": 57,
   "metadata": {},
   "outputs": [
    {
     "name": "stdout",
     "output_type": "stream",
     "text": [
      "Model images shape: (-1, 3, -1, -1) DataType.FLOAT\n",
      "Model output0 shape: (-1, 37, -1) DataType.FLOAT\n",
      "Model output1 shape: (-1, 32, -1, -1) DataType.FLOAT\n"
     ]
    }
   ],
   "source": [
    "# check inputs and outputs\n",
    "for input in inputs:\n",
    "  print(f\"Model {input.name} shape: {input.shape} {input.dtype}\")\n",
    "for output in outputs:\n",
    "  print(f\"Model {output.name} shape: {output.shape} {output.dtype}\")  "
   ]
  },
  {
   "cell_type": "code",
   "execution_count": 58,
   "metadata": {},
   "outputs": [
    {
     "data": {
      "text/plain": [
       "0"
      ]
     },
     "execution_count": 58,
     "metadata": {},
     "output_type": "execute_result"
    }
   ],
   "source": [
    "profile = builder.create_optimization_profile()\n",
    "min_shape = [1] + shape_input_model[-3:]\n",
    "opt_shape = [int(max_batch_size / 2)] + shape_input_model[-3:]\n",
    "max_shape = shape_input_model\n",
    "\n",
    "for input in inputs:\n",
    "  profile.set_shape(input.name, min_shape, opt_shape, max_shape)\n",
    "config.add_optimization_profile(profile)"
   ]
  },
  {
   "cell_type": "code",
   "execution_count": 59,
   "metadata": {},
   "outputs": [],
   "source": [
    "# set FP16\n",
    "config.set_flag(trt.BuilderFlag.FP16)"
   ]
  },
  {
   "cell_type": "code",
   "execution_count": 60,
   "metadata": {},
   "outputs": [],
   "source": [
    "# strip weights\n",
    "strip_weights = False\n",
    "if strip_weights:\n",
    "  config.set_flag(trt.BuilderFlag.STRIP_PLAN)"
   ]
  },
  {
   "cell_type": "code",
   "execution_count": 61,
   "metadata": {},
   "outputs": [],
   "source": [
    "# build and save engine\n",
    "# engine_bytes = builder.build_serialized_network(network, config)"
   ]
  },
  {
   "cell_type": "code",
   "execution_count": 62,
   "metadata": {},
   "outputs": [],
   "source": [
    "# with open(TRT_PATH, \"wb\") as f:\n",
    "#   f.write(engine_bytes)"
   ]
  },
  {
   "cell_type": "markdown",
   "metadata": {},
   "source": [
    "# Load Engines"
   ]
  },
  {
   "cell_type": "code",
   "execution_count": 63,
   "metadata": {},
   "outputs": [],
   "source": [
    "\n",
    "import pycuda.driver as cuda\n",
    "import pycuda.autoinit\n",
    "import tensorrt as trt\n",
    "\n",
    "TRT_LOGGER = trt.Logger(trt.Logger.WARNING)"
   ]
  },
  {
   "cell_type": "code",
   "execution_count": 64,
   "metadata": {},
   "outputs": [],
   "source": [
    "def load_normal_engine(engine_path: str) -> trt.ICudaEngine:\n",
    "  runtime = trt.Runtime(TRT_LOGGER)\n",
    "  with open(engine_path, \"rb\") as plan:\n",
    "    engine = runtime.deserialize_cuda_engine(plan.read())\n",
    "    return engine"
   ]
  },
  {
   "cell_type": "code",
   "execution_count": null,
   "metadata": {},
   "outputs": [],
   "source": [
    "# engine = load_normal_engine(TRT_PATH)\n",
    "engine = load_normal_engine(\"/home/crinstaniev/Dev/BrainTumorTRTAcc/model.trt\")"
   ]
  },
  {
   "cell_type": "code",
   "execution_count": 66,
   "metadata": {},
   "outputs": [],
   "source": [
    "\n",
    "import pycuda.driver as cuda\n",
    "from PIL import Image\n",
    "import os"
   ]
  },
  {
   "cell_type": "code",
   "execution_count": 67,
   "metadata": {},
   "outputs": [],
   "source": [
    "input_shape = (1, 3, 640, 640)"
   ]
  },
  {
   "cell_type": "code",
   "execution_count": 68,
   "metadata": {},
   "outputs": [],
   "source": [
    "# prepare image to inference\n",
    "test_images_path = os.path.join(BASE_DIR, 'data/test/images')\n",
    "test_images = os.listdir(test_images_path)\n",
    "test_image = Image.open(os.path.join(test_images_path, test_images[2])).convert('RGB')\n",
    "test_image = test_image.resize((input_shape[2], input_shape[3]), Image.Resampling.LANCZOS)\n",
    "test_image = np.array(test_image, dtype=np.float16) / 255.0\n",
    "test_image = np.transpose(test_image, (2, 0, 1)) # convert to CHW\n",
    "test_image = np.expand_dims(test_image, axis=0)\n",
    "input_data = np.ascontiguousarray(test_image)"
   ]
  },
  {
   "cell_type": "code",
   "execution_count": 69,
   "metadata": {},
   "outputs": [],
   "source": [
    "# perform inference\n",
    "context = engine.create_execution_context()"
   ]
  },
  {
   "cell_type": "code",
   "execution_count": 70,
   "metadata": {},
   "outputs": [
    {
     "data": {
      "text/plain": [
       "True"
      ]
     },
     "execution_count": 70,
     "metadata": {},
     "output_type": "execute_result"
    }
   ],
   "source": [
    "# fix input shape to (1, 3, 640, 640)\n",
    "context.set_input_shape('images', (1, 3, 640, 640))"
   ]
  },
  {
   "cell_type": "code",
   "execution_count": 71,
   "metadata": {},
   "outputs": [
    {
     "name": "stdout",
     "output_type": "stream",
     "text": [
      "Bindings: [48012197888, 47901048832, 47903145984]\n",
      "Buffers: {'images': <pycuda._driver.DeviceAllocation object at 0x7f311dcbdae0>, 'output0': <pycuda._driver.DeviceAllocation object at 0x7f311bc18ee0>, 'output1': <pycuda._driver.DeviceAllocation object at 0x7f311bc18e20>}\n"
     ]
    }
   ],
   "source": [
    "bindings = []\n",
    "buffers = {}\n",
    "stream = cuda.Stream()\n",
    "\n",
    "for binding in engine:\n",
    "    shape = context.get_tensor_shape(binding)\n",
    "    dtype = trt.nptype(engine.get_tensor_dtype(binding))\n",
    "    buffer = cuda.mem_alloc(trt.volume(shape) * np.dtype(dtype).itemsize)\n",
    "    buffers[binding] = buffer\n",
    "    bindings.append(int(buffer))\n",
    "    \n",
    "print(f\"Bindings: {bindings}\")\n",
    "print(f\"Buffers: {buffers}\")"
   ]
  },
  {
   "cell_type": "code",
   "execution_count": 72,
   "metadata": {},
   "outputs": [],
   "source": [
    "for name, buffer in buffers.items():\n",
    "  context.set_tensor_address(name, int(buffer))"
   ]
  },
  {
   "cell_type": "code",
   "execution_count": 73,
   "metadata": {},
   "outputs": [],
   "source": [
    "# copy input data to the input buffer\n",
    "input_binding = None\n",
    "\n",
    "for name in engine:\n",
    "  tensor_mode = engine.get_tensor_mode(name)\n",
    "  if tensor_mode == trt.TensorIOMode.INPUT:\n",
    "    input_binding = name\n",
    "    break\n",
    "\n",
    "# make sure input binding is found\n",
    "assert input_binding is not None\n",
    "\n",
    "# cuda.memcpy_htod(buffers[input_binding])"
   ]
  },
  {
   "cell_type": "code",
   "execution_count": 74,
   "metadata": {},
   "outputs": [],
   "source": [
    "# debug: random input data\n",
    "input_data = np.random.random_sample(input_shape).astype(np.float16)\n",
    "\n",
    "cuda.memcpy_htod(buffers[input_binding], input_data)"
   ]
  },
  {
   "cell_type": "code",
   "execution_count": 75,
   "metadata": {},
   "outputs": [
    {
     "data": {
      "text/plain": [
       "True"
      ]
     },
     "execution_count": 75,
     "metadata": {},
     "output_type": "execute_result"
    }
   ],
   "source": [
    "context.execute_async_v3(stream.handle)"
   ]
  },
  {
   "cell_type": "code",
   "execution_count": 76,
   "metadata": {},
   "outputs": [
    {
     "name": "stdout",
     "output_type": "stream",
     "text": [
      "Output shape: (1, 37, 8400)\n",
      "Output shape: (1, 32, 160, 160)\n"
     ]
    }
   ],
   "source": [
    "\n",
    "# copy output data from the GPU\n",
    "output_bindings = [name for name in engine if not engine.get_tensor_mode(name) == trt.TensorIOMode.INPUT]\n",
    "\n",
    "outputs_for_later = []\n",
    "\n",
    "for output_binding in output_bindings:\n",
    "  output_shape = context.get_tensor_shape(output_binding)\n",
    "  output_data = np.empty(output_shape, dtype=trt.nptype(engine.get_tensor_dtype(output_binding)))\n",
    "  cuda.memcpy_dtoh(output_data, buffers[output_binding])\n",
    "  \n",
    "  outputs_for_later.append(output_data)\n",
    "  \n",
    "  # print output shapes\n",
    "  print(f\"Output shape: {output_shape}\")\n",
    "  \n",
    "stream.synchronize()"
   ]
  },
  {
   "cell_type": "code",
   "execution_count": 77,
   "metadata": {},
   "outputs": [],
   "source": [
    "from ultralytics.utils.ops import non_max_suppression\n",
    "import matplotlib.pyplot as plt"
   ]
  },
  {
   "cell_type": "code",
   "execution_count": 78,
   "metadata": {},
   "outputs": [
    {
     "name": "stdout",
     "output_type": "stream",
     "text": [
      "Output0 shape: torch.Size([1, 37, 8400])\n",
      "Output1 shape: torch.Size([1, 32, 160, 160])\n"
     ]
    }
   ],
   "source": [
    "output0 = outputs_for_later[0]\n",
    "output1 = outputs_for_later[1]\n",
    "\n",
    "# convert to tensor\n",
    "output0_t = torch.tensor(output0)\n",
    "output1_t = torch.tensor(output1)\n",
    "\n",
    "print(f\"Output0 shape: {output0_t.shape}\")\n",
    "print(f\"Output1 shape: {output1_t.shape}\")"
   ]
  },
  {
   "cell_type": "code",
   "execution_count": 79,
   "metadata": {},
   "outputs": [],
   "source": [
    "conf_threshold = 0.25\n",
    "iou_threshold = 0.45\n",
    "\n",
    "detections = non_max_suppression(output0_t, conf_thres=conf_threshold, iou_thres=iou_threshold)"
   ]
  },
  {
   "cell_type": "code",
   "execution_count": 80,
   "metadata": {},
   "outputs": [],
   "source": [
    "detection = detections[0]"
   ]
  },
  {
   "cell_type": "code",
   "execution_count": 81,
   "metadata": {},
   "outputs": [],
   "source": [
    "mask = output1[0, 0, :, :]"
   ]
  },
  {
   "cell_type": "code",
   "execution_count": 82,
   "metadata": {},
   "outputs": [],
   "source": [
    "binary_mask = (mask > 0.5).astype(np.uint8)"
   ]
  },
  {
   "cell_type": "code",
   "execution_count": 83,
   "metadata": {},
   "outputs": [
    {
     "data": {
      "text/plain": [
       "array([[0, 0, 0, ..., 0, 0, 0],\n",
       "       [0, 0, 0, ..., 0, 0, 0],\n",
       "       [0, 0, 0, ..., 0, 0, 0],\n",
       "       ...,\n",
       "       [0, 0, 0, ..., 0, 0, 0],\n",
       "       [0, 0, 0, ..., 0, 0, 0],\n",
       "       [0, 0, 0, ..., 0, 0, 0]], dtype=uint8)"
      ]
     },
     "execution_count": 83,
     "metadata": {},
     "output_type": "execute_result"
    }
   ],
   "source": [
    "binary_mask"
   ]
  },
  {
   "cell_type": "code",
   "execution_count": 84,
   "metadata": {},
   "outputs": [
    {
     "data": {
      "text/plain": [
       "<matplotlib.image.AxesImage at 0x7f30bb9136b0>"
      ]
     },
     "execution_count": 84,
     "metadata": {},
     "output_type": "execute_result"
    },
    {
     "data": {
      "image/png": "[encoded data removed]",
      "text/plain": [
       "<Figure size 640x480 with 1 Axes>"
      ]
     },
     "metadata": {},
     "output_type": "display_data"
    }
   ],
   "source": [
    "plt.imshow(binary_mask, cmap='gray')"
   ]
  },
  {
   "cell_type": "code",
   "execution_count": null,
   "metadata": {},
   "outputs": [],
   "source": []
  }
 ],
 "metadata": {
  "kernelspec": {
   "display_name": "inference-acc",
   "language": "python",
   "name": "python3"
  },
  "language_info": {
   "codemirror_mode": {
    "name": "ipython",
    "version": 3
   },
   "file_extension": ".py",
   "mimetype": "text/x-python",
   "name": "python",
   "nbconvert_exporter": "python",
   "pygments_lexer": "ipython3",
   "version": "3.12.7"
  }
 },
 "nbformat": 4,
 "nbformat_minor": 2
}
