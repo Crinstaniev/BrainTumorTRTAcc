{
 "cells": [
  {
   "cell_type": "code",
   "execution_count": null,
   "metadata": {},
   "outputs": [],
   "source": [
    "from ultralytics import YOLO\n",
    "import os"
   ]
  },
  {
   "cell_type": "code",
   "execution_count": 7,
   "metadata": {},
   "outputs": [],
   "source": [
    "# load trained model\n",
    "BEST_MODEL = \"/home/users/xt37/zz/runs/segment/train/weights/best.pt\"\n",
    "TEST_IMGS = \"/home/users/xt37/zz/data/test/images\""
   ]
  },
  {
   "cell_type": "code",
   "execution_count": 3,
   "metadata": {},
   "outputs": [],
   "source": [
    "model = YOLO(BEST_MODEL)"
   ]
  },
  {
   "cell_type": "code",
   "execution_count": 13,
   "metadata": {},
   "outputs": [],
   "source": [
    "test_images_path = [os.path.join(TEST_IMGS, img) for img in os.listdir(TEST_IMGS)]"
   ]
  },
  {
   "cell_type": "code",
   "execution_count": 15,
   "metadata": {},
   "outputs": [
    {
     "name": "stdout",
     "output_type": "stream",
     "text": [
      "\n"
     ]
    },
    {
     "name": "stderr",
     "output_type": "stream",
     "text": [
      "/home/users/xt37/torch/lib/python3.10/site-packages/tqdm/auto.py:21: TqdmWarning: IProgress not found. Please update jupyter and ipywidgets. See https://ipywidgets.readthedocs.io/en/stable/user_install.html\n",
      "  from .autonotebook import tqdm as notebook_tqdm\n"
     ]
    },
    {
     "name": "stdout",
     "output_type": "stream",
     "text": [
      "0: 640x640 (no detections), 2.0ms\n",
      "1: 640x640 1 object, 2.0ms\n",
      "2: 640x640 (no detections), 2.0ms\n",
      "3: 640x640 2 objects, 2.0ms\n",
      "4: 640x640 1 object, 2.0ms\n",
      "5: 640x640 1 object, 2.0ms\n",
      "6: 640x640 1 object, 2.0ms\n",
      "7: 640x640 1 object, 2.0ms\n",
      "8: 640x640 1 object, 2.0ms\n",
      "9: 640x640 1 object, 2.0ms\n",
      "10: 640x640 1 object, 2.0ms\n",
      "11: 640x640 1 object, 2.0ms\n",
      "12: 640x640 1 object, 2.0ms\n",
      "13: 640x640 1 object, 2.0ms\n",
      "14: 640x640 1 object, 2.0ms\n",
      "15: 640x640 1 object, 2.0ms\n",
      "16: 640x640 1 object, 2.0ms\n",
      "17: 640x640 1 object, 2.0ms\n",
      "18: 640x640 1 object, 2.0ms\n",
      "19: 640x640 1 object, 2.0ms\n",
      "20: 640x640 1 object, 2.0ms\n",
      "21: 640x640 1 object, 2.0ms\n",
      "22: 640x640 1 object, 2.0ms\n",
      "23: 640x640 1 object, 2.0ms\n",
      "24: 640x640 1 object, 2.0ms\n",
      "25: 640x640 (no detections), 2.0ms\n",
      "26: 640x640 1 object, 2.0ms\n",
      "27: 640x640 1 object, 2.0ms\n",
      "28: 640x640 1 object, 2.0ms\n",
      "29: 640x640 1 object, 2.0ms\n",
      "30: 640x640 (no detections), 2.0ms\n",
      "31: 640x640 1 object, 2.0ms\n",
      "32: 640x640 1 object, 2.0ms\n",
      "33: 640x640 1 object, 2.0ms\n",
      "34: 640x640 1 object, 2.0ms\n",
      "35: 640x640 (no detections), 2.0ms\n",
      "36: 640x640 1 object, 2.0ms\n",
      "37: 640x640 1 object, 2.0ms\n",
      "38: 640x640 1 object, 2.0ms\n",
      "39: 640x640 1 object, 2.0ms\n",
      "40: 640x640 1 object, 2.0ms\n",
      "41: 640x640 1 object, 2.0ms\n",
      "42: 640x640 1 object, 2.0ms\n",
      "43: 640x640 1 object, 2.0ms\n",
      "44: 640x640 1 object, 2.0ms\n",
      "45: 640x640 1 object, 2.0ms\n",
      "46: 640x640 (no detections), 2.0ms\n",
      "47: 640x640 1 object, 2.0ms\n",
      "48: 640x640 1 object, 2.0ms\n",
      "49: 640x640 1 object, 2.0ms\n",
      "50: 640x640 1 object, 2.0ms\n",
      "51: 640x640 1 object, 2.0ms\n",
      "52: 640x640 1 object, 2.0ms\n",
      "53: 640x640 1 object, 2.0ms\n",
      "54: 640x640 1 object, 2.0ms\n",
      "55: 640x640 1 object, 2.0ms\n",
      "56: 640x640 1 object, 2.0ms\n",
      "57: 640x640 1 object, 2.0ms\n",
      "58: 640x640 1 object, 2.0ms\n",
      "59: 640x640 1 object, 2.0ms\n",
      "60: 640x640 1 object, 2.0ms\n",
      "61: 640x640 1 object, 2.0ms\n",
      "62: 640x640 1 object, 2.0ms\n",
      "63: 640x640 1 object, 2.0ms\n",
      "64: 640x640 1 object, 2.0ms\n",
      "65: 640x640 1 object, 2.0ms\n",
      "66: 640x640 1 object, 2.0ms\n",
      "67: 640x640 (no detections), 2.0ms\n",
      "68: 640x640 1 object, 2.0ms\n",
      "69: 640x640 1 object, 2.0ms\n",
      "70: 640x640 (no detections), 2.0ms\n",
      "71: 640x640 1 object, 2.0ms\n",
      "72: 640x640 1 object, 2.0ms\n",
      "73: 640x640 1 object, 2.0ms\n",
      "74: 640x640 1 object, 2.0ms\n",
      "75: 640x640 1 object, 2.0ms\n",
      "76: 640x640 1 object, 2.0ms\n",
      "77: 640x640 1 object, 2.0ms\n",
      "78: 640x640 1 object, 2.0ms\n",
      "79: 640x640 1 object, 2.0ms\n",
      "Speed: 2.7ms preprocess, 2.0ms inference, 2.5ms postprocess per image at shape (1, 3, 640, 640)\n"
     ]
    }
   ],
   "source": [
    "results = model(test_images_path)"
   ]
  },
  {
   "cell_type": "code",
   "execution_count": null,
   "metadata": {},
   "outputs": [
    {
     "name": "stdout",
     "output_type": "stream",
     "text": [
      "0\n"
     ]
    }
   ],
   "source": [
    "# save inference results\n",
    "if not os.path.exists(\"output\"):\n",
    "    os.makedirs(\"output\")\n",
    "for idx, result in enumerate(results):\n",
    "    result.save(\"output/{}.jpg\".format(idx))"
   ]
  },
  {
   "cell_type": "code",
   "execution_count": null,
   "metadata": {},
   "outputs": [],
   "source": []
  }
 ],
 "metadata": {
  "kernelspec": {
   "display_name": "Python (torch",
   "language": "python",
   "name": "torch"
  },
  "language_info": {
   "codemirror_mode": {
    "name": "ipython",
    "version": 3
   },
   "file_extension": ".py",
   "mimetype": "text/x-python",
   "name": "python",
   "nbconvert_exporter": "python",
   "pygments_lexer": "ipython3",
   "version": "3.10.12"
  }
 },
 "nbformat": 4,
 "nbformat_minor": 2
}
