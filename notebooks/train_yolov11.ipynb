{
 "cells": [
  {
   "cell_type": "code",
   "execution_count": 1,
   "metadata": {},
   "outputs": [],
   "source": [
    "from ultralytics import YOLO\n",
    "\n",
    "import os \n",
    "import sys"
   ]
  },
  {
   "cell_type": "code",
   "execution_count": 10,
   "metadata": {},
   "outputs": [],
   "source": [
    "ROOT_DIR = \"/home/users/xt37/zz\"\n",
    "DATA_PATH = \"/home/users/xt37/zz/data\"\n",
    "\n",
    "os.chdir(ROOT_DIR)"
   ]
  },
  {
   "cell_type": "code",
   "execution_count": 9,
   "metadata": {},
   "outputs": [],
   "source": [
    "model = YOLO(\"yolo11n-seg.pt\")"
   ]
  },
  {
   "cell_type": "code",
   "execution_count": null,
   "metadata": {},
   "outputs": [],
   "source": [
    "train_results = model.train(\n",
    "  data=DATA_PATH,\n",
    "  epochs=100,\n",
    "  imgsz=640\n",
    ")"
   ]
  },
  {
   "cell_type": "code",
   "execution_count": null,
   "metadata": {},
   "outputs": [
    {
     "name": "stdout",
     "output_type": "stream",
     "text": [
      "Ultralytics 8.3.36 🚀 Python-3.12.7 torch-2.5.1 CPU (13th Gen Intel Core(TM) i5-13600K)\n"
     ]
    },
    {
     "name": "stdout",
     "output_type": "stream",
     "text": [
      "YOLO11n-seg summary (fused): 265 layers, 2,834,763 parameters, 0 gradients, 10.2 GFLOPs\n",
      "\n",
      "\u001b[34m\u001b[1mPyTorch:\u001b[0m starting from '/home/crinstaniev/Dev/BrainTumorTRTAcc/runs/segment/train/weights/best.pt' with input shape (1, 3, 640, 640) BCHW and output shape(s) ((1, 37, 8400), (1, 32, 160, 160)) (5.7 MB)\n",
      "\n",
      "\u001b[34m\u001b[1mONNX:\u001b[0m starting export with onnx 1.17.0 opset 19...\n",
      "\u001b[34m\u001b[1mONNX:\u001b[0m slimming with onnxslim 0.1.41...\n",
      "\u001b[34m\u001b[1mONNX:\u001b[0m export success ✅ 0.6s, saved as '/home/crinstaniev/Dev/BrainTumorTRTAcc/runs/segment/train/weights/best.onnx' (11.1 MB)\n",
      "\n",
      "Export complete (0.8s)\n",
      "Results saved to \u001b[1m/home/crinstaniev/Dev/BrainTumorTRTAcc/runs/segment/train/weights\u001b[0m\n",
      "Predict:         yolo predict task=segment model=/home/crinstaniev/Dev/BrainTumorTRTAcc/runs/segment/train/weights/best.onnx imgsz=640  \n",
      "Validate:        yolo val task=segment model=/home/crinstaniev/Dev/BrainTumorTRTAcc/runs/segment/train/weights/best.onnx imgsz=640 data=/home/users/xt37/zz/data/data.yaml  \n",
      "Visualize:       https://netron.app\n"
     ]
    },
    {
     "data": {
      "text/plain": [
       "'/home/crinstaniev/Dev/BrainTumorTRTAcc/runs/segment/train/weights/best.onnx'"
      ]
     },
     "execution_count": 6,
     "metadata": {},
     "output_type": "execute_result"
    }
   ],
   "source": [
    "model = YOLO(\"/home/crinstaniev/Dev/BrainTumorTRTAcc/runs/segment/train/weights/best.pt\")\n",
    "model.export(\n",
    "  format='onnx',\n",
    "  imgsz=640,\n",
    "  dynamic=False,\n",
    "  batch=1,\n",
    "  device='cuda:0',\n",
    ")"
   ]
  },
  {
   "cell_type": "code",
   "execution_count": null,
   "metadata": {},
   "outputs": [],
   "source": []
  }
 ],
 "metadata": {
  "kernelspec": {
   "display_name": "inference-acc",
   "language": "python",
   "name": "python3"
  },
  "language_info": {
   "codemirror_mode": {
    "name": "ipython",
    "version": 3
   },
   "file_extension": ".py",
   "mimetype": "text/x-python",
   "name": "python",
   "nbconvert_exporter": "python",
   "pygments_lexer": "ipython3",
   "version": "3.12.7"
  }
 },
 "nbformat": 4,
 "nbformat_minor": 2
}
